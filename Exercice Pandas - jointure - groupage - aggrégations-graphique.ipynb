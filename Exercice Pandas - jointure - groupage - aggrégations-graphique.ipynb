{
 "cells": [
  {
   "cell_type": "markdown",
   "id": "d890b725",
   "metadata": {},
   "source": [
    "# Exercice Jointure-groupage-agrégation avec Pandas\n",
    "---\n",
    "\n",
    "Dans cet exercice, c'est la base de données exmeple HR livrée avec Oracle XE.\n",
    "\n",
    "**Travail demandé**\n",
    "- Examiner la structure des fichiers CSV (résultant de l'exportation des tables Employees et Departments)\n",
    "- Traduire les requêtes SQL fournies en utilisant la bibliothèque Pandas"
   ]
  },
  {
   "cell_type": "markdown",
   "id": "f92227a4",
   "metadata": {},
   "source": [
    "## Importation et affichage des structures"
   ]
  },
  {
   "cell_type": "code",
   "execution_count": 1,
   "id": "c87b358a",
   "metadata": {},
   "outputs": [],
   "source": [
    "import pandas as pd"
   ]
  },
  {
   "cell_type": "code",
   "execution_count": 2,
   "id": "92da4c38-7336-4208-ac18-8d538488bbf8",
   "metadata": {},
   "outputs": [
    {
     "name": "stdout",
     "output_type": "stream",
     "text": [
      "<class 'pandas.core.frame.DataFrame'>\n",
      "RangeIndex: 29 entries, 0 to 28\n",
      "Data columns (total 4 columns):\n",
      " #   Column           Non-Null Count  Dtype  \n",
      "---  ------           --------------  -----  \n",
      " 0   department_id    29 non-null     int64  \n",
      " 1   department_name  29 non-null     object \n",
      " 2   manager_id       11 non-null     float64\n",
      " 3   location_id      27 non-null     float64\n",
      "dtypes: float64(2), int64(1), object(1)\n",
      "memory usage: 1.0+ KB\n",
      "None\n"
     ]
    }
   ],
   "source": [
    "departments = pd.read_csv('departments.csv')\n",
    "print(departments.info())"
   ]
  },
  {
   "cell_type": "markdown",
   "id": "f7528ab1-7b95-42b1-8640-757ce71c4584",
   "metadata": {},
   "source": [
    "<class 'pandas.core.frame.DataFrame'>\n",
    "RangeIndex: 29 entries, 0 to 28\n",
    "Data columns (total 4 columns):\n",
    " #   Column           Non-Null Count  Dtype  \n",
    "---  ------           --------------  -----  \n",
    " 0   department_id    29 non-null     int64  \n",
    " 1   department_name  29 non-null     object \n",
    " 2   manager_id       11 non-null     float64\n",
    " 3   location_id      27 non-null     float64\n",
    "dtypes: float64(2), int64(1), object(1)\n",
    "memory usage: 1.0+ KB\n",
    "None"
   ]
  },
  {
   "cell_type": "code",
   "execution_count": 3,
   "id": "865806a1-2424-4205-8458-206cdb5c736d",
   "metadata": {},
   "outputs": [
    {
     "name": "stdout",
     "output_type": "stream",
     "text": [
      "<class 'pandas.core.frame.DataFrame'>\n",
      "RangeIndex: 107 entries, 0 to 106\n",
      "Data columns (total 11 columns):\n",
      " #   Column          Non-Null Count  Dtype  \n",
      "---  ------          --------------  -----  \n",
      " 0   employee_id     107 non-null    int64  \n",
      " 1   first_name      107 non-null    object \n",
      " 2   last_name       107 non-null    object \n",
      " 3   email           107 non-null    object \n",
      " 4   phone_number    107 non-null    object \n",
      " 5   hire_date       107 non-null    object \n",
      " 6   job_id          107 non-null    object \n",
      " 7   salary          107 non-null    float64\n",
      " 8   commission_pct  35 non-null     float64\n",
      " 9   manager_id      106 non-null    float64\n",
      " 10  department_id   106 non-null    float64\n",
      "dtypes: float64(4), int64(1), object(6)\n",
      "memory usage: 9.3+ KB\n",
      "None\n"
     ]
    }
   ],
   "source": [
    "employees = pd.read_csv('employees.csv')\n",
    "print(employees.info())"
   ]
  },
  {
   "cell_type": "markdown",
   "id": "e16fb440-9a66-4a4e-83fa-95bf25289775",
   "metadata": {},
   "source": [
    "<class 'pandas.core.frame.DataFrame'>\n",
    "RangeIndex: 107 entries, 0 to 106\n",
    "Data columns (total 11 columns):\n",
    " #   Column          Non-Null Count  Dtype  \n",
    "---  ------          --------------  -----  \n",
    " 0   employee_id     107 non-null    int64  \n",
    " 1   first_name      107 non-null    object \n",
    " 2   last_name       107 non-null    object \n",
    " 3   email           107 non-null    object \n",
    " 4   phone_number    107 non-null    object \n",
    " 5   hire_date       107 non-null    object \n",
    " 6   job_id          107 non-null    object \n",
    " 7   salary          107 non-null    float64\n",
    " 8   commission_pct  35 non-null     float64\n",
    " 9   manager_id      106 non-null    float64\n",
    " 10  department_id   106 non-null    float64\n",
    "dtypes: float64(4), int64(1), object(6)\n",
    "memory usage: 9.3+ KB\n",
    "None\n"
   ]
  },
  {
   "cell_type": "markdown",
   "id": "9a7db7ac",
   "metadata": {},
   "source": [
    "## Requête 1\n",
    "\n",
    "```SQL\n",
    "SELECT first_name, last_name, department_name\n",
    "FROM emp, dept\n",
    "WHERE emp.department_id = dept.department_id\n",
    "```"
   ]
  },
  {
   "cell_type": "code",
   "execution_count": 4,
   "id": "4c9171db",
   "metadata": {},
   "outputs": [
    {
     "name": "stdout",
     "output_type": "stream",
     "text": [
      "    first_name last_name   department_name\n",
      "0       Steven      King         Executive\n",
      "1        Neena   Kochhar         Executive\n",
      "2          Lex   De Haan         Executive\n",
      "3    Alexander    Hunold                IT\n",
      "4        Bruce     Ernst                IT\n",
      "..         ...       ...               ...\n",
      "101        Pat       Fay         Marketing\n",
      "102      Susan    Mavris   Human Resources\n",
      "103    Hermann      Baer  Public Relations\n",
      "104    Shelley   Higgins        Accounting\n",
      "105    William     Gietz        Accounting\n",
      "\n",
      "[106 rows x 3 columns]\n"
     ]
    }
   ],
   "source": [
    "joinEmpDept = pd.merge(employees, departments, on='department_id')\n",
    "print(joinEmpDept[[\"first_name\",\"last_name\",\"department_name\"]])\n"
   ]
  },
  {
   "cell_type": "markdown",
   "id": "96f7dd93",
   "metadata": {},
   "source": [
    "## Requête 2\n",
    "```SQL\n",
    "SELECT first_name, last_name, department_name\n",
    "FROM emp LEFT OUTER JOIN dept ON emp.department_id = dept.department_id\n",
    "```"
   ]
  },
  {
   "cell_type": "code",
   "execution_count": 7,
   "id": "02803661",
   "metadata": {},
   "outputs": [
    {
     "name": "stdout",
     "output_type": "stream",
     "text": [
      "   first_name last_name department_name\n",
      "99  Kimberely     Grant             NaN\n"
     ]
    }
   ],
   "source": [
    "joinEmpDept = pd.merge(employees, departments, on='department_id',how=\"outer\",indicator=True).query('_merge==\"left_only\"')\n",
    "print(joinEmpDept[[\"first_name\",\"last_name\",\"department_name\"]])"
   ]
  },
  {
   "cell_type": "markdown",
   "id": "a4a707d4",
   "metadata": {},
   "source": [
    "## Requête 3\n",
    "```SQL\n",
    "SELECT e.first_name , e.last_name, c.first_name, c.last_name\n",
    "FROM emp e, emp c\n",
    "WHERE e.manager_id = c.employee_id\n",
    "```"
   ]
  },
  {
   "cell_type": "code",
   "execution_count": 11,
   "id": "6662828f",
   "metadata": {},
   "outputs": [
    {
     "name": "stdout",
     "output_type": "stream",
     "text": [
      "    first_name_x last_name_x first_name_y last_name_y\n",
      "0          Neena     Kochhar       Steven        King\n",
      "1            Lex     De Haan       Steven        King\n",
      "2            Den    Raphaely       Steven        King\n",
      "3        Matthew       Weiss       Steven        King\n",
      "4           Adam       Fripp       Steven        King\n",
      "..           ...         ...          ...         ...\n",
      "101         Jack  Livingston        Eleni     Zlotkey\n",
      "102    Kimberely       Grant        Eleni     Zlotkey\n",
      "103      Charles     Johnson        Eleni     Zlotkey\n",
      "104          Pat         Fay      Michael   Hartstein\n",
      "105      William       Gietz      Shelley     Higgins\n",
      "\n",
      "[106 rows x 4 columns]\n"
     ]
    }
   ],
   "source": [
    "# join employees and employees table where manger_id = employee_id\n",
    "joinEmpDept = pd.merge(employees, employees, left_on='manager_id', right_on='employee_id')\n",
    "\n",
    "print(joinEmpDept[[\"first_name_x\",\"last_name_x\",\"first_name_y\",\"last_name_y\"]])"
   ]
  },
  {
   "cell_type": "markdown",
   "id": "320266f4",
   "metadata": {},
   "source": [
    "## Requête 4\n",
    "```SQL\n",
    "SELECT *\n",
    "FROM emp\n",
    "GROUP BY department_id\n",
    "```"
   ]
  },
  {
   "cell_type": "code",
   "execution_count": 19,
   "id": "3cd52ae7",
   "metadata": {},
   "outputs": [
    {
     "name": "stdout",
     "output_type": "stream",
     "text": [
      "department_id\n",
      "10.0      1\n",
      "20.0      2\n",
      "30.0      6\n",
      "40.0      1\n",
      "50.0     45\n",
      "60.0      5\n",
      "70.0      1\n",
      "80.0     34\n",
      "90.0      3\n",
      "100.0     6\n",
      "110.0     2\n",
      "Name: employee_id, dtype: int64\n"
     ]
    }
   ],
   "source": [
    "# select all from employees group by department_id\n",
    "joinEmpDept = employees.groupby('department_id')[\"employee_id\"].count()\n",
    "print(joinEmpDept)"
   ]
  },
  {
   "cell_type": "markdown",
   "id": "0a985919",
   "metadata": {},
   "source": [
    "## Requête 5\n",
    "```SQL\n",
    "SELECT department_id, count(employee_id)\n",
    "FROM emp\n",
    "GROUP BY department_id\n",
    "```"
   ]
  },
  {
   "cell_type": "code",
   "execution_count": 20,
   "id": "786e4007",
   "metadata": {
    "scrolled": true
   },
   "outputs": [
    {
     "name": "stdout",
     "output_type": "stream",
     "text": [
      "department_id\n",
      "10.0      1\n",
      "20.0      2\n",
      "30.0      6\n",
      "40.0      1\n",
      "50.0     45\n",
      "60.0      5\n",
      "70.0      1\n",
      "80.0     34\n",
      "90.0      3\n",
      "100.0     6\n",
      "110.0     2\n",
      "Name: employee_id, dtype: int64\n"
     ]
    }
   ],
   "source": [
    "# select all from employees group by department_id\n",
    "joinEmpDept = employees.groupby('department_id')[\"employee_id\"].count()\n",
    "print(joinEmpDept)"
   ]
  },
  {
   "cell_type": "markdown",
   "id": "5798564b",
   "metadata": {},
   "source": [
    "## Requête 6\n",
    "```SQL\n",
    "SELECT department_id, MIN(salary), MAX(salary), AVG(salary), MIN(commission_pct)\n",
    "FROM emp\n",
    "GROUP BY department_id\n",
    "```"
   ]
  },
  {
   "cell_type": "code",
   "execution_count": 28,
   "id": "07ae1a8e",
   "metadata": {},
   "outputs": [
    {
     "name": "stdout",
     "output_type": "stream",
     "text": [
      "                 salary                        commission_pct\n",
      "                    min      max          mean            min\n",
      "department_id                                                \n",
      "10.0            4400.00   4400.0   4400.000000            NaN\n",
      "20.0            6945.75  13000.0   9972.875000            NaN\n",
      "30.0            2894.06  11000.0   4515.165000            NaN\n",
      "40.0            6500.00   6500.0   6500.000000            NaN\n",
      "50.0            2433.33   8202.0   3806.563111            NaN\n",
      "60.0            4862.03   9000.0   6255.046000            NaN\n",
      "70.0           10000.00  10000.0  10000.000000            NaN\n",
      "80.0            7061.51  14000.0   9544.808235            0.1\n",
      "90.0           19679.63  24000.0  21119.753333            NaN\n",
      "100.0           7987.61  12008.0   9483.133333            NaN\n",
      "110.0           9608.29  12008.0  10808.145000            NaN\n"
     ]
    }
   ],
   "source": [
    "# select min(salary) max(salary) avg(salary) min(commision_pct) from employees group by department_id\n",
    "joinEmpDept = employees.groupby('department_id').agg({'salary': ['min', 'max','mean'],'commission_pct': ['min']})\n",
    "print(joinEmpDept)"
   ]
  },
  {
   "cell_type": "markdown",
   "id": "44b80c9f",
   "metadata": {},
   "source": [
    "### Afficher le salaire moyen du département 60"
   ]
  },
  {
   "cell_type": "code",
   "execution_count": 36,
   "id": "0938595b",
   "metadata": {},
   "outputs": [
    {
     "name": "stdout",
     "output_type": "stream",
     "text": [
      "6255.045999999999\n"
     ]
    }
   ],
   "source": [
    "id60 = employees[\"department_id\"]==60\n",
    "print(employees[id60]['salary'].mean())"
   ]
  },
  {
   "cell_type": "markdown",
   "id": "778ff166",
   "metadata": {},
   "source": [
    "### Avec pivot_table"
   ]
  },
  {
   "cell_type": "code",
   "execution_count": null,
   "id": "5ee94ff2",
   "metadata": {},
   "outputs": [],
   "source": []
  },
  {
   "cell_type": "markdown",
   "id": "0d5de97e",
   "metadata": {},
   "source": [
    "## Graphiques \n",
    "- Tracer un histogramme des salaires moyens par département\n",
    "- Tracer un graphique en secteurs du nombre d'employés par job_id\n",
    "- Créer un nuage de points des salaires en fonction de commission_pct"
   ]
  },
  {
   "cell_type": "code",
   "execution_count": null,
   "id": "3beebe72",
   "metadata": {},
   "outputs": [],
   "source": []
  },
  {
   "cell_type": "code",
   "execution_count": null,
   "id": "7e7e6e4b",
   "metadata": {},
   "outputs": [],
   "source": []
  },
  {
   "cell_type": "code",
   "execution_count": null,
   "id": "e659ad33",
   "metadata": {},
   "outputs": [],
   "source": []
  }
 ],
 "metadata": {
  "kernelspec": {
   "display_name": "Python 3 (ipykernel)",
   "language": "python",
   "name": "python3"
  },
  "language_info": {
   "codemirror_mode": {
    "name": "ipython",
    "version": 3
   },
   "file_extension": ".py",
   "mimetype": "text/x-python",
   "name": "python",
   "nbconvert_exporter": "python",
   "pygments_lexer": "ipython3",
   "version": "3.7.3"
  },
  "toc": {
   "base_numbering": 1,
   "nav_menu": {},
   "number_sections": true,
   "sideBar": true,
   "skip_h1_title": false,
   "title_cell": "Table of Contents",
   "title_sidebar": "Contents",
   "toc_cell": false,
   "toc_position": {},
   "toc_section_display": true,
   "toc_window_display": false
  },
  "varInspector": {
   "cols": {
    "lenName": 16,
    "lenType": 16,
    "lenVar": 40
   },
   "kernels_config": {
    "python": {
     "delete_cmd_postfix": "",
     "delete_cmd_prefix": "del ",
     "library": "var_list.py",
     "varRefreshCmd": "print(var_dic_list())"
    },
    "r": {
     "delete_cmd_postfix": ") ",
     "delete_cmd_prefix": "rm(",
     "library": "var_list.r",
     "varRefreshCmd": "cat(var_dic_list()) "
    }
   },
   "types_to_exclude": [
    "module",
    "function",
    "builtin_function_or_method",
    "instance",
    "_Feature"
   ],
   "window_display": false
  },
  "vscode": {
   "interpreter": {
    "hash": "916dbcbb3f70747c44a77c7bcd40155683ae19c65e1c03b4aa3499c5328201f1"
   }
  }
 },
 "nbformat": 4,
 "nbformat_minor": 5
}
